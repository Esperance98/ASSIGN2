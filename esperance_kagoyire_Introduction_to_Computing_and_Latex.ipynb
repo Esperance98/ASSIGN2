{
  "cells": [
    {
      "cell_type": "markdown",
      "metadata": {
        "id": "view-in-github",
        "colab_type": "text"
      },
      "source": [
        "<a href=\"https://colab.research.google.com/github/Esperance98/ASSIGN2/blob/master/esperance_kagoyire_Introduction_to_Computing_and_Latex.ipynb\" target=\"_parent\"><img src=\"https://colab.research.google.com/assets/colab-badge.svg\" alt=\"Open In Colab\"/></a>"
      ]
    },
    {
      "cell_type": "markdown",
      "metadata": {
        "id": "CF5eSbvNOVFP"
      },
      "source": [
        "# Exercise 1\n",
        "\n",
        "Write a program that asks the user for a positive integer $k$ and $n$,  and compute and displays the value of $$A = \\frac{1}{k}+ \\frac{1}{kk}+ \\frac{1}{kkk}+ \\frac{1}{kkkk}+\\frac{1}{kk...k},$$\n",
        "where the last term $kk...k$ has a length $n$. Test the program by inputing $2$ and $1$ for $k$ and $n$, respectively."
      ]
    },
    {
      "cell_type": "code",
      "execution_count": null,
      "metadata": {
        "id": "d7rUxUFUOVFW"
      },
      "outputs": [],
      "source": [
        "n = int(input('Enter Number n: '))\n",
        "k = int(input('Enter Number k: '))\n",
        "A=0\n",
        "for i in range(1,n+1):\n",
        "    A = A + (1/k**i)\n",
        "print(A)"
      ]
    },
    {
      "cell_type": "markdown",
      "metadata": {
        "id": "CoLCCKF8OVFa"
      },
      "source": [
        "# Exercise 2\n",
        "\n",
        "1. Write a function called <b>showEmployee</b> in such a way that it should accept employee name and its salary and display both. For axemaple, <b>showEmployee(\"John\",100000)</b> must return <b>\"Employee John's salary is 100000\"</b>.\n",
        "if the salary is not given, the function <b>showEmployee</b> must consider 50000 as the salary."
      ]
    },
    {
      "cell_type": "code",
      "execution_count": null,
      "metadata": {
        "id": "W_SJrwJrOVFc"
      },
      "outputs": [],
      "source": [
        "def showEmployee(name, sal= 50000):\n",
        "    return f\"Employee {name}'s salary is {sal}\"\n",
        "\n",
        "showEmployee(\"John\",100000)"
      ]
    },
    {
      "cell_type": "markdown",
      "metadata": {
        "id": "JsxO9y0MOVFd"
      },
      "source": [
        "2. Test the fuction <b>showEmployee</b> by using only your name as string."
      ]
    },
    {
      "cell_type": "code",
      "execution_count": null,
      "metadata": {
        "id": "iIDh0qNIOVFe"
      },
      "outputs": [],
      "source": [
        "showEmployee(\"Esperance\")"
      ]
    },
    {
      "cell_type": "markdown",
      "metadata": {
        "id": "XBEH3lMhOVFf"
      },
      "source": [
        "# Exercise 3\n",
        "Write a function called <b>Root_Power</b> that is given a positive number $x$ and a positive integer $n$ and returns $x^{1/n}$ and $x^n$. In\n",
        "the function definition, set the default value of $n$ to $2$. Test the function <b>root</b> by inputing only $x=49$"
      ]
    },
    {
      "cell_type": "code",
      "execution_count": null,
      "metadata": {
        "id": "4WVdTvMlOVFg"
      },
      "outputs": [],
      "source": [
        "def Root_Power(x,n = 2):\n",
        "    root1 = x**(1/n)\n",
        "    root2 = x**(n)\n",
        "    return [root1, root2]\n",
        "\n",
        "Root_Power(49)"
      ]
    },
    {
      "cell_type": "markdown",
      "metadata": {
        "id": "7nKmgCMWOVFh"
      },
      "source": [
        "# Exercise 4\n",
        "1. Write a Python function called <b>OddNum</b> that  returns the list of odd numbers from a given list."
      ]
    },
    {
      "cell_type": "code",
      "execution_count": null,
      "metadata": {
        "id": "3BOT18B-OVFi"
      },
      "outputs": [],
      "source": [
        "def OddNum(l):\n",
        "    L1 = []\n",
        "    for i in range(len(l)):\n",
        "        if l[i] < 0:\n",
        "            l[i] = -1*l[i]\n",
        "        if l[i] % 2 == 1:\n",
        "            L1.append(l[i])\n",
        "    return L1"
      ]
    },
    {
      "cell_type": "markdown",
      "metadata": {
        "id": "-EfAAypCOVFk"
      },
      "source": [
        "2. Test the function <b>OddNum</b> by using the list $[-14, 45.5,27,0,-4,7]$"
      ]
    },
    {
      "cell_type": "code",
      "execution_count": null,
      "metadata": {
        "id": "-zjewaGIOVFl"
      },
      "outputs": [],
      "source": [
        "l = [-14,45.5,27,0,-4,7]\n",
        "OddNum(l)"
      ]
    },
    {
      "cell_type": "markdown",
      "metadata": {
        "id": "z8wesBheOVFm"
      },
      "source": [
        "# Exercise 5\n",
        "\n",
        "1. Write a function called <b>SolveQuadratic</b> that takes three real numbers $a\\neq 0$, $b$, $c$ and  returns the list of the solutions in <b>R</b> of the quadratic equation $ax^2 + bx + c = 0.$ "
      ]
    },
    {
      "cell_type": "code",
      "execution_count": null,
      "metadata": {
        "id": "5RksozAEOVFo"
      },
      "outputs": [],
      "source": [
        "import math\n",
        "def SolveQuadratic(a,b,c):\n",
        "\n",
        "    D= b * b - 4 * a * c \n",
        "    \n",
        "    if D> 0:\n",
        "        s = math.sqrt(D)\n",
        "        X1=  (-b + s)/(2 * a)\n",
        "        X2=(-b - s)/(2 * a)\n",
        "        return [X1,X2]\n",
        "    elif D == 0: \n",
        "\n",
        "        x3= -b / (2 * a)\n",
        "        return [x3]\n",
        "    else:\n",
        "        return('no solution in R')\n",
        "        \n",
        "        \n",
        "\n",
        "    \n",
        "       \n"
      ]
    },
    {
      "cell_type": "markdown",
      "metadata": {
        "id": "pBw9yzSbOVFq"
      },
      "source": [
        "2. Print the output of <b>SolveQuadratic</b> when\n",
        "    - $a = 2, b=0, c=-8$\n",
        "    - $a = 2, b=0, c=8$\n",
        "    - $a = 1, b=2, c=1$"
      ]
    },
    {
      "cell_type": "code",
      "execution_count": null,
      "metadata": {
        "id": "nv5HVlqeOVFs"
      },
      "outputs": [],
      "source": [
        "a=2\n",
        "b=0\n",
        "c=-8\n",
        "SolveQuadratic(a,b,c)"
      ]
    },
    {
      "cell_type": "code",
      "execution_count": null,
      "metadata": {
        "id": "s2ThZh8XOVFu"
      },
      "outputs": [],
      "source": [
        "a=2\n",
        "b=0\n",
        "c=8\n",
        "SolveQuadratic(a,b,c)"
      ]
    },
    {
      "cell_type": "code",
      "execution_count": null,
      "metadata": {
        "id": "Qc_p_J1ZOVFv"
      },
      "outputs": [],
      "source": [
        "a=1\n",
        "b=2\n",
        "c=1\n",
        "SolveQuadratic(a,b,c)"
      ]
    },
    {
      "cell_type": "markdown",
      "metadata": {
        "id": "cyxDohGcOVFw"
      },
      "source": [
        "# Exercise 6\n",
        "1. Write a function called <b>FunDig</b> that takes an integer  $n$ and returns the sum of the cubes of it’s digits.\n",
        "For example, <b>FunDig</b>$(203)$ must compute $ 2^3 + 0^3 + 3^3 $ and return $35$.\n"
      ]
    },
    {
      "cell_type": "code",
      "execution_count": null,
      "metadata": {
        "id": "7GapgUsEOVFx"
      },
      "outputs": [],
      "source": [
        "def FunDig(n):\n",
        "    total = 0\n",
        "    while n > 0:\n",
        "        r=n%10\n",
        "        total += r * r * r\n",
        "        n=int((n-r)/10)\n",
        "    return total\n",
        "FunDig(203)\n",
        "\n",
        "    "
      ]
    },
    {
      "cell_type": "markdown",
      "metadata": {
        "id": "BMTqI0saOVFy"
      },
      "source": [
        "2. Write a python code to find all integers below 1000 such that <b>FunDig</b>$(n) > n$. "
      ]
    },
    {
      "cell_type": "code",
      "execution_count": null,
      "metadata": {
        "id": "FomxmP7VOVFz"
      },
      "outputs": [],
      "source": [
        "for i in range(1,1000):\n",
        "    if FunDig (i)>i:\n",
        "        print(i)"
      ]
    },
    {
      "cell_type": "markdown",
      "metadata": {
        "id": "m8UaHNP-OVF0"
      },
      "source": [
        "# Exercise 7\n",
        "\n",
        "Recall that if <b>s</b> is a string, then <b>s.find('a')</b> will find the location of the first a in <b>s</b>. The\n",
        "problem is that it does not find the location of every a. Write a function called <b>findall</b> that\n",
        "given a string and a single character, returns a list containing all of the locations of that character\n",
        "in the string. It should return an empty list if there are no occurrences of the character\n",
        "in the string."
      ]
    },
    {
      "cell_type": "code",
      "execution_count": null,
      "metadata": {
        "id": "3v5H2rN9OVF1"
      },
      "outputs": [],
      "source": [
        "def findall(n,a):\n",
        "    l=[]\n",
        "    for i in range (len(n)):\n",
        "        if n[i]==a:\n",
        "            l.append(i)\n",
        "    return(l)\n",
        "n=\"fifi\"\n",
        "a=\"f\"\n",
        "findall(n,a)\n",
        "\n",
        "    "
      ]
    },
    {
      "cell_type": "markdown",
      "metadata": {
        "id": "4ve3x9-zOVF2"
      },
      "source": [
        "# Exercise 8\n",
        "\n",
        "1. Write a function called <b>List_of_factors</b> that takes a positive integer $n$ and returns a list of all the factors of $n$. Test this function by printint the output of <b>List_of_factors</b> for $n=15$"
      ]
    },
    {
      "cell_type": "code",
      "execution_count": null,
      "metadata": {
        "id": "pX1-HujjOVF3"
      },
      "outputs": [],
      "source": [
        "def  List_of_factors (n):\n",
        "    l=[]\n",
        "    for i in range(1,n+1):\n",
        "         if n%i==0:\n",
        "                l.append(i)\n",
        "    return(l)\n",
        "   \n",
        "       \n",
        "            \n",
        "    \n",
        "    \n",
        "n=15\n",
        "List_of_factors(n)    "
      ]
    },
    {
      "cell_type": "markdown",
      "metadata": {
        "id": "Ds-m6fo4OVF4"
      },
      "source": [
        "## 2. Using <b>List_of_factors</b>, write a Python function called <b>IsPrime</b> that takes a positive integer $n$  as a argument and returs the boolean <b>True</b> if $n$ is a prime number otherwise it returns the boolean <b> False</b>. Test this function by printing the output of <b>IsPrime</b> for  $n=15$ and $n=97$.\n",
        "\n",
        "    Note : A prime number (or a prime) is a natural number greater than 1 and that has no positive divisors other than 1 and itself."
      ]
    },
    {
      "cell_type": "code",
      "execution_count": null,
      "metadata": {
        "id": "MoXmhFRSOVF4"
      },
      "outputs": [],
      "source": [
        "def Isprime(n):\n",
        "    if len(List_of_factors(n))==2:\n",
        "        return True\n",
        "    else:\n",
        "        return False\n",
        "       \n",
        "    \n",
        "    \n",
        "Isprime(15)"
      ]
    },
    {
      "cell_type": "code",
      "execution_count": null,
      "metadata": {
        "id": "Y130XiriOVF6"
      },
      "outputs": [],
      "source": [
        "def Isprime(n):\n",
        "    if len(List_of_factors(n))==2:\n",
        "        return True\n",
        "    else:\n",
        "        return False\n",
        "       \n",
        "    \n",
        "    \n",
        "Isprime(97)"
      ]
    },
    {
      "cell_type": "markdown",
      "metadata": {
        "id": "WqUWSgwzOVF8"
      },
      "source": [
        "3. Using <b>IsPrime</b>, write the function <b>primes_start</b> that takes two positive integers $n$, $start$ and return a list of the first n primes that are greater than or equal to $start$. The default value of $start$ should be $2$."
      ]
    },
    {
      "cell_type": "code",
      "execution_count": null,
      "metadata": {
        "id": "3--RbLkxOVF9"
      },
      "outputs": [],
      "source": [
        "def  primes_start(n,start=2):\n",
        "    l=[]\n",
        "    count=1\n",
        "    while count<=n:\n",
        "        if Isprime(start):\n",
        "            l.append(start)\n",
        "            count+=1\n",
        "        start+=1\n",
        "    return(l)\n",
        "    \n",
        "        \n",
        "n=4\n",
        "start=3\n",
        "primes_start(n,start)   "
      ]
    },
    {
      "cell_type": "code",
      "execution_count": null,
      "metadata": {
        "id": "bJMsmyOuOVF_"
      },
      "outputs": [],
      "source": []
    }
  ],
  "metadata": {
    "kernelspec": {
      "display_name": "Python 3",
      "language": "python",
      "name": "python3"
    },
    "language_info": {
      "codemirror_mode": {
        "name": "ipython",
        "version": 3
      },
      "file_extension": ".py",
      "mimetype": "text/x-python",
      "name": "python",
      "nbconvert_exporter": "python",
      "pygments_lexer": "ipython3",
      "version": "3.9.2"
    },
    "colab": {
      "provenance": [],
      "include_colab_link": true
    }
  },
  "nbformat": 4,
  "nbformat_minor": 0
}